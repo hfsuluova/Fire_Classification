{
 "cells": [
  {
   "cell_type": "code",
   "execution_count": 1,
   "metadata": {},
   "outputs": [],
   "source": [
    "import os\n",
    "import shutil\n",
    "import random"
   ]
  },
  {
   "cell_type": "code",
   "execution_count": 2,
   "metadata": {},
   "outputs": [],
   "source": [
    "def copy_imgs(source_path, target_path, percentage):\n",
    "    count=0\n",
    "    source_image_names = os.listdir(source_path)\n",
    "    random.shuffle(source_image_names)\n",
    "    target_number = round(len(source_image_names)*percentage)\n",
    "    for i in range(target_number):\n",
    "        a = random.choice(source_image_names)\n",
    "        shutil.copy(source_path + '/' + a, target_path +'/'+ a)\n",
    "        count+=1\n",
    "        print(str(i) +'out of '+ str(target_number) +' completed!', end='\\r')\n"
   ]
  },
  {
   "cell_type": "code",
   "execution_count": 3,
   "metadata": {},
   "outputs": [],
   "source": [
    "src1 = 'C:\\\\Users\\\\hfsul\\\\Documents\\\\CE888 Assignment\\\\Fire-vs-NoFire\\\\Training\\\\Fire'\n",
    "trg1 = 'C:\\\\Users\\\\hfsul\\\\Documents\\\\CE888 Assignment\\\\SmallDataset\\\\Training\\\\Fire'\n",
    "\n",
    "src2 = 'C:\\\\Users\\\\hfsul\\\\Documents\\\\CE888 Assignment\\\\Fire-vs-NoFire\\\\Training\\\\No_Fire'\n",
    "trg2 = 'C:\\\\Users\\\\hfsul\\\\Documents\\\\CE888 Assignment\\\\SmallDataset\\\\Training\\\\No_Fire'\n"
   ]
  },
  {
   "cell_type": "code",
   "execution_count": 4,
   "metadata": {},
   "outputs": [
    {
     "name": "stdout",
     "output_type": "stream",
     "text": [
      "25018\n",
      "14357\n"
     ]
    }
   ],
   "source": [
    "print(len(os.listdir(src1)))\n",
    "print(len(os.listdir(src2)))"
   ]
  },
  {
   "cell_type": "code",
   "execution_count": 5,
   "metadata": {},
   "outputs": [
    {
     "name": "stdout",
     "output_type": "stream",
     "text": [
      "15010out of 15011 completed!\r"
     ]
    }
   ],
   "source": [
    "copy_imgs(src1,trg1,0.6)"
   ]
  },
  {
   "cell_type": "code",
   "execution_count": 6,
   "metadata": {},
   "outputs": [
    {
     "name": "stdout",
     "output_type": "stream",
     "text": [
      "8613out of 8614 completed!\r"
     ]
    }
   ],
   "source": [
    "copy_imgs(src2,trg2,0.6)"
   ]
  }
 ],
 "metadata": {
  "kernelspec": {
   "display_name": "Python 3",
   "language": "python",
   "name": "python3"
  },
  "language_info": {
   "codemirror_mode": {
    "name": "ipython",
    "version": 3
   },
   "file_extension": ".py",
   "mimetype": "text/x-python",
   "name": "python",
   "nbconvert_exporter": "python",
   "pygments_lexer": "ipython3",
   "version": "3.8.5"
  }
 },
 "nbformat": 4,
 "nbformat_minor": 4
}
